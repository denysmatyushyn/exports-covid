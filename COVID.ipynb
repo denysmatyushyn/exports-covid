{
 "cells": [
  {
   "cell_type": "code",
   "execution_count": 1,
   "id": "27b5cdd7",
   "metadata": {},
   "outputs": [],
   "source": [
    "import pandas as pd\n",
    "import numpy as np\n",
    "import matplotlib.pyplot as plt\n",
    "import seaborn as sns\n",
    "import warnings\n",
    "warnings.filterwarnings('ignore')"
   ]
  },
  {
   "cell_type": "code",
   "execution_count": 2,
   "id": "0f7752d8",
   "metadata": {},
   "outputs": [],
   "source": [
    "data = pd.read_csv('effects-of-covid-19-on-trade-at-15-december-2021-provisional.csv')"
   ]
  },
  {
   "cell_type": "code",
   "execution_count": 3,
   "id": "6210a897",
   "metadata": {},
   "outputs": [
    {
     "data": {
      "text/html": [
       "<div>\n",
       "<style scoped>\n",
       "    .dataframe tbody tr th:only-of-type {\n",
       "        vertical-align: middle;\n",
       "    }\n",
       "\n",
       "    .dataframe tbody tr th {\n",
       "        vertical-align: top;\n",
       "    }\n",
       "\n",
       "    .dataframe thead th {\n",
       "        text-align: right;\n",
       "    }\n",
       "</style>\n",
       "<table border=\"1\" class=\"dataframe\">\n",
       "  <thead>\n",
       "    <tr style=\"text-align: right;\">\n",
       "      <th></th>\n",
       "      <th>Direction</th>\n",
       "      <th>Year</th>\n",
       "      <th>Date</th>\n",
       "      <th>Weekday</th>\n",
       "      <th>Country</th>\n",
       "      <th>Commodity</th>\n",
       "      <th>Transport_Mode</th>\n",
       "      <th>Measure</th>\n",
       "      <th>Value</th>\n",
       "      <th>Cumulative</th>\n",
       "    </tr>\n",
       "  </thead>\n",
       "  <tbody>\n",
       "    <tr>\n",
       "      <th>0</th>\n",
       "      <td>Exports</td>\n",
       "      <td>2015</td>\n",
       "      <td>01/01/2015</td>\n",
       "      <td>Thursday</td>\n",
       "      <td>All</td>\n",
       "      <td>All</td>\n",
       "      <td>All</td>\n",
       "      <td>$</td>\n",
       "      <td>104000000</td>\n",
       "      <td>104000000</td>\n",
       "    </tr>\n",
       "    <tr>\n",
       "      <th>1</th>\n",
       "      <td>Exports</td>\n",
       "      <td>2015</td>\n",
       "      <td>02/01/2015</td>\n",
       "      <td>Friday</td>\n",
       "      <td>All</td>\n",
       "      <td>All</td>\n",
       "      <td>All</td>\n",
       "      <td>$</td>\n",
       "      <td>96000000</td>\n",
       "      <td>200000000</td>\n",
       "    </tr>\n",
       "    <tr>\n",
       "      <th>2</th>\n",
       "      <td>Exports</td>\n",
       "      <td>2015</td>\n",
       "      <td>03/01/2015</td>\n",
       "      <td>Saturday</td>\n",
       "      <td>All</td>\n",
       "      <td>All</td>\n",
       "      <td>All</td>\n",
       "      <td>$</td>\n",
       "      <td>61000000</td>\n",
       "      <td>262000000</td>\n",
       "    </tr>\n",
       "    <tr>\n",
       "      <th>3</th>\n",
       "      <td>Exports</td>\n",
       "      <td>2015</td>\n",
       "      <td>04/01/2015</td>\n",
       "      <td>Sunday</td>\n",
       "      <td>All</td>\n",
       "      <td>All</td>\n",
       "      <td>All</td>\n",
       "      <td>$</td>\n",
       "      <td>74000000</td>\n",
       "      <td>336000000</td>\n",
       "    </tr>\n",
       "    <tr>\n",
       "      <th>4</th>\n",
       "      <td>Exports</td>\n",
       "      <td>2015</td>\n",
       "      <td>05/01/2015</td>\n",
       "      <td>Monday</td>\n",
       "      <td>All</td>\n",
       "      <td>All</td>\n",
       "      <td>All</td>\n",
       "      <td>$</td>\n",
       "      <td>105000000</td>\n",
       "      <td>442000000</td>\n",
       "    </tr>\n",
       "    <tr>\n",
       "      <th>...</th>\n",
       "      <td>...</td>\n",
       "      <td>...</td>\n",
       "      <td>...</td>\n",
       "      <td>...</td>\n",
       "      <td>...</td>\n",
       "      <td>...</td>\n",
       "      <td>...</td>\n",
       "      <td>...</td>\n",
       "      <td>...</td>\n",
       "      <td>...</td>\n",
       "    </tr>\n",
       "    <tr>\n",
       "      <th>111433</th>\n",
       "      <td>Reimports</td>\n",
       "      <td>2021</td>\n",
       "      <td>11/12/2021</td>\n",
       "      <td>Saturday</td>\n",
       "      <td>All</td>\n",
       "      <td>All</td>\n",
       "      <td>All</td>\n",
       "      <td>$</td>\n",
       "      <td>0</td>\n",
       "      <td>165000000</td>\n",
       "    </tr>\n",
       "    <tr>\n",
       "      <th>111434</th>\n",
       "      <td>Reimports</td>\n",
       "      <td>2021</td>\n",
       "      <td>12/12/2021</td>\n",
       "      <td>Sunday</td>\n",
       "      <td>All</td>\n",
       "      <td>All</td>\n",
       "      <td>All</td>\n",
       "      <td>$</td>\n",
       "      <td>0</td>\n",
       "      <td>165000000</td>\n",
       "    </tr>\n",
       "    <tr>\n",
       "      <th>111435</th>\n",
       "      <td>Reimports</td>\n",
       "      <td>2021</td>\n",
       "      <td>13/12/2021</td>\n",
       "      <td>Monday</td>\n",
       "      <td>All</td>\n",
       "      <td>All</td>\n",
       "      <td>All</td>\n",
       "      <td>$</td>\n",
       "      <td>2000000</td>\n",
       "      <td>166000000</td>\n",
       "    </tr>\n",
       "    <tr>\n",
       "      <th>111436</th>\n",
       "      <td>Reimports</td>\n",
       "      <td>2021</td>\n",
       "      <td>14/12/2021</td>\n",
       "      <td>Tuesday</td>\n",
       "      <td>All</td>\n",
       "      <td>All</td>\n",
       "      <td>All</td>\n",
       "      <td>$</td>\n",
       "      <td>1000000</td>\n",
       "      <td>167000000</td>\n",
       "    </tr>\n",
       "    <tr>\n",
       "      <th>111437</th>\n",
       "      <td>Reimports</td>\n",
       "      <td>2021</td>\n",
       "      <td>15/12/2021</td>\n",
       "      <td>Wednesday</td>\n",
       "      <td>All</td>\n",
       "      <td>All</td>\n",
       "      <td>All</td>\n",
       "      <td>$</td>\n",
       "      <td>1000000</td>\n",
       "      <td>168000000</td>\n",
       "    </tr>\n",
       "  </tbody>\n",
       "</table>\n",
       "<p>111438 rows × 10 columns</p>\n",
       "</div>"
      ],
      "text/plain": [
       "        Direction  Year        Date    Weekday Country Commodity  \\\n",
       "0         Exports  2015  01/01/2015   Thursday     All       All   \n",
       "1         Exports  2015  02/01/2015     Friday     All       All   \n",
       "2         Exports  2015  03/01/2015   Saturday     All       All   \n",
       "3         Exports  2015  04/01/2015     Sunday     All       All   \n",
       "4         Exports  2015  05/01/2015     Monday     All       All   \n",
       "...           ...   ...         ...        ...     ...       ...   \n",
       "111433  Reimports  2021  11/12/2021   Saturday     All       All   \n",
       "111434  Reimports  2021  12/12/2021     Sunday     All       All   \n",
       "111435  Reimports  2021  13/12/2021     Monday     All       All   \n",
       "111436  Reimports  2021  14/12/2021    Tuesday     All       All   \n",
       "111437  Reimports  2021  15/12/2021  Wednesday     All       All   \n",
       "\n",
       "       Transport_Mode Measure      Value  Cumulative  \n",
       "0                 All       $  104000000   104000000  \n",
       "1                 All       $   96000000   200000000  \n",
       "2                 All       $   61000000   262000000  \n",
       "3                 All       $   74000000   336000000  \n",
       "4                 All       $  105000000   442000000  \n",
       "...               ...     ...        ...         ...  \n",
       "111433            All       $          0   165000000  \n",
       "111434            All       $          0   165000000  \n",
       "111435            All       $    2000000   166000000  \n",
       "111436            All       $    1000000   167000000  \n",
       "111437            All       $    1000000   168000000  \n",
       "\n",
       "[111438 rows x 10 columns]"
      ]
     },
     "execution_count": 3,
     "metadata": {},
     "output_type": "execute_result"
    }
   ],
   "source": [
    "data"
   ]
  },
  {
   "cell_type": "code",
   "execution_count": 4,
   "id": "b716e9bc",
   "metadata": {},
   "outputs": [
    {
     "data": {
      "text/html": [
       "<div>\n",
       "<style scoped>\n",
       "    .dataframe tbody tr th:only-of-type {\n",
       "        vertical-align: middle;\n",
       "    }\n",
       "\n",
       "    .dataframe tbody tr th {\n",
       "        vertical-align: top;\n",
       "    }\n",
       "\n",
       "    .dataframe thead th {\n",
       "        text-align: right;\n",
       "    }\n",
       "</style>\n",
       "<table border=\"1\" class=\"dataframe\">\n",
       "  <thead>\n",
       "    <tr style=\"text-align: right;\">\n",
       "      <th></th>\n",
       "      <th>Direction</th>\n",
       "      <th>Year</th>\n",
       "      <th>Date</th>\n",
       "      <th>Weekday</th>\n",
       "      <th>Country</th>\n",
       "      <th>Commodity</th>\n",
       "      <th>Transport_Mode</th>\n",
       "      <th>Measure</th>\n",
       "      <th>Value</th>\n",
       "      <th>Cumulative</th>\n",
       "    </tr>\n",
       "  </thead>\n",
       "  <tbody>\n",
       "    <tr>\n",
       "      <th>0</th>\n",
       "      <td>Exports</td>\n",
       "      <td>2015</td>\n",
       "      <td>01/01/2015</td>\n",
       "      <td>Thursday</td>\n",
       "      <td>All</td>\n",
       "      <td>All</td>\n",
       "      <td>All</td>\n",
       "      <td>$</td>\n",
       "      <td>104000000</td>\n",
       "      <td>104000000</td>\n",
       "    </tr>\n",
       "    <tr>\n",
       "      <th>1</th>\n",
       "      <td>Exports</td>\n",
       "      <td>2015</td>\n",
       "      <td>02/01/2015</td>\n",
       "      <td>Friday</td>\n",
       "      <td>All</td>\n",
       "      <td>All</td>\n",
       "      <td>All</td>\n",
       "      <td>$</td>\n",
       "      <td>96000000</td>\n",
       "      <td>200000000</td>\n",
       "    </tr>\n",
       "    <tr>\n",
       "      <th>2</th>\n",
       "      <td>Exports</td>\n",
       "      <td>2015</td>\n",
       "      <td>03/01/2015</td>\n",
       "      <td>Saturday</td>\n",
       "      <td>All</td>\n",
       "      <td>All</td>\n",
       "      <td>All</td>\n",
       "      <td>$</td>\n",
       "      <td>61000000</td>\n",
       "      <td>262000000</td>\n",
       "    </tr>\n",
       "    <tr>\n",
       "      <th>3</th>\n",
       "      <td>Exports</td>\n",
       "      <td>2015</td>\n",
       "      <td>04/01/2015</td>\n",
       "      <td>Sunday</td>\n",
       "      <td>All</td>\n",
       "      <td>All</td>\n",
       "      <td>All</td>\n",
       "      <td>$</td>\n",
       "      <td>74000000</td>\n",
       "      <td>336000000</td>\n",
       "    </tr>\n",
       "    <tr>\n",
       "      <th>4</th>\n",
       "      <td>Exports</td>\n",
       "      <td>2015</td>\n",
       "      <td>05/01/2015</td>\n",
       "      <td>Monday</td>\n",
       "      <td>All</td>\n",
       "      <td>All</td>\n",
       "      <td>All</td>\n",
       "      <td>$</td>\n",
       "      <td>105000000</td>\n",
       "      <td>442000000</td>\n",
       "    </tr>\n",
       "  </tbody>\n",
       "</table>\n",
       "</div>"
      ],
      "text/plain": [
       "  Direction  Year        Date   Weekday Country Commodity Transport_Mode  \\\n",
       "0   Exports  2015  01/01/2015  Thursday     All       All            All   \n",
       "1   Exports  2015  02/01/2015    Friday     All       All            All   \n",
       "2   Exports  2015  03/01/2015  Saturday     All       All            All   \n",
       "3   Exports  2015  04/01/2015    Sunday     All       All            All   \n",
       "4   Exports  2015  05/01/2015    Monday     All       All            All   \n",
       "\n",
       "  Measure      Value  Cumulative  \n",
       "0       $  104000000   104000000  \n",
       "1       $   96000000   200000000  \n",
       "2       $   61000000   262000000  \n",
       "3       $   74000000   336000000  \n",
       "4       $  105000000   442000000  "
      ]
     },
     "execution_count": 4,
     "metadata": {},
     "output_type": "execute_result"
    }
   ],
   "source": [
    "data.head()"
   ]
  },
  {
   "cell_type": "code",
   "execution_count": 5,
   "id": "a310a10b",
   "metadata": {},
   "outputs": [
    {
     "data": {
      "text/html": [
       "<div>\n",
       "<style scoped>\n",
       "    .dataframe tbody tr th:only-of-type {\n",
       "        vertical-align: middle;\n",
       "    }\n",
       "\n",
       "    .dataframe tbody tr th {\n",
       "        vertical-align: top;\n",
       "    }\n",
       "\n",
       "    .dataframe thead th {\n",
       "        text-align: right;\n",
       "    }\n",
       "</style>\n",
       "<table border=\"1\" class=\"dataframe\">\n",
       "  <thead>\n",
       "    <tr style=\"text-align: right;\">\n",
       "      <th></th>\n",
       "      <th>Direction</th>\n",
       "      <th>Year</th>\n",
       "      <th>Date</th>\n",
       "      <th>Weekday</th>\n",
       "      <th>Country</th>\n",
       "      <th>Commodity</th>\n",
       "      <th>Transport_Mode</th>\n",
       "      <th>Measure</th>\n",
       "      <th>Value</th>\n",
       "      <th>Cumulative</th>\n",
       "    </tr>\n",
       "  </thead>\n",
       "  <tbody>\n",
       "    <tr>\n",
       "      <th>111433</th>\n",
       "      <td>Reimports</td>\n",
       "      <td>2021</td>\n",
       "      <td>11/12/2021</td>\n",
       "      <td>Saturday</td>\n",
       "      <td>All</td>\n",
       "      <td>All</td>\n",
       "      <td>All</td>\n",
       "      <td>$</td>\n",
       "      <td>0</td>\n",
       "      <td>165000000</td>\n",
       "    </tr>\n",
       "    <tr>\n",
       "      <th>111434</th>\n",
       "      <td>Reimports</td>\n",
       "      <td>2021</td>\n",
       "      <td>12/12/2021</td>\n",
       "      <td>Sunday</td>\n",
       "      <td>All</td>\n",
       "      <td>All</td>\n",
       "      <td>All</td>\n",
       "      <td>$</td>\n",
       "      <td>0</td>\n",
       "      <td>165000000</td>\n",
       "    </tr>\n",
       "    <tr>\n",
       "      <th>111435</th>\n",
       "      <td>Reimports</td>\n",
       "      <td>2021</td>\n",
       "      <td>13/12/2021</td>\n",
       "      <td>Monday</td>\n",
       "      <td>All</td>\n",
       "      <td>All</td>\n",
       "      <td>All</td>\n",
       "      <td>$</td>\n",
       "      <td>2000000</td>\n",
       "      <td>166000000</td>\n",
       "    </tr>\n",
       "    <tr>\n",
       "      <th>111436</th>\n",
       "      <td>Reimports</td>\n",
       "      <td>2021</td>\n",
       "      <td>14/12/2021</td>\n",
       "      <td>Tuesday</td>\n",
       "      <td>All</td>\n",
       "      <td>All</td>\n",
       "      <td>All</td>\n",
       "      <td>$</td>\n",
       "      <td>1000000</td>\n",
       "      <td>167000000</td>\n",
       "    </tr>\n",
       "    <tr>\n",
       "      <th>111437</th>\n",
       "      <td>Reimports</td>\n",
       "      <td>2021</td>\n",
       "      <td>15/12/2021</td>\n",
       "      <td>Wednesday</td>\n",
       "      <td>All</td>\n",
       "      <td>All</td>\n",
       "      <td>All</td>\n",
       "      <td>$</td>\n",
       "      <td>1000000</td>\n",
       "      <td>168000000</td>\n",
       "    </tr>\n",
       "  </tbody>\n",
       "</table>\n",
       "</div>"
      ],
      "text/plain": [
       "        Direction  Year        Date    Weekday Country Commodity  \\\n",
       "111433  Reimports  2021  11/12/2021   Saturday     All       All   \n",
       "111434  Reimports  2021  12/12/2021     Sunday     All       All   \n",
       "111435  Reimports  2021  13/12/2021     Monday     All       All   \n",
       "111436  Reimports  2021  14/12/2021    Tuesday     All       All   \n",
       "111437  Reimports  2021  15/12/2021  Wednesday     All       All   \n",
       "\n",
       "       Transport_Mode Measure    Value  Cumulative  \n",
       "111433            All       $        0   165000000  \n",
       "111434            All       $        0   165000000  \n",
       "111435            All       $  2000000   166000000  \n",
       "111436            All       $  1000000   167000000  \n",
       "111437            All       $  1000000   168000000  "
      ]
     },
     "execution_count": 5,
     "metadata": {},
     "output_type": "execute_result"
    }
   ],
   "source": [
    "data.tail()"
   ]
  },
  {
   "cell_type": "code",
   "execution_count": 6,
   "id": "0479e1c1",
   "metadata": {},
   "outputs": [
    {
     "data": {
      "text/plain": [
       "(111438, 10)"
      ]
     },
     "execution_count": 6,
     "metadata": {},
     "output_type": "execute_result"
    }
   ],
   "source": [
    "data.shape"
   ]
  },
  {
   "cell_type": "code",
   "execution_count": 7,
   "id": "4ed29641",
   "metadata": {},
   "outputs": [
    {
     "data": {
      "text/plain": [
       "Index(['Direction', 'Year', 'Date', 'Weekday', 'Country', 'Commodity',\n",
       "       'Transport_Mode', 'Measure', 'Value', 'Cumulative'],\n",
       "      dtype='object')"
      ]
     },
     "execution_count": 7,
     "metadata": {},
     "output_type": "execute_result"
    }
   ],
   "source": [
    "data.columns"
   ]
  },
  {
   "cell_type": "code",
   "execution_count": 8,
   "id": "def13be8",
   "metadata": {},
   "outputs": [
    {
     "name": "stdout",
     "output_type": "stream",
     "text": [
      "<class 'pandas.core.frame.DataFrame'>\n",
      "RangeIndex: 111438 entries, 0 to 111437\n",
      "Data columns (total 10 columns):\n",
      " #   Column          Non-Null Count   Dtype \n",
      "---  ------          --------------   ----- \n",
      " 0   Direction       111438 non-null  object\n",
      " 1   Year            111438 non-null  int64 \n",
      " 2   Date            111438 non-null  object\n",
      " 3   Weekday         111438 non-null  object\n",
      " 4   Country         111438 non-null  object\n",
      " 5   Commodity       111438 non-null  object\n",
      " 6   Transport_Mode  111438 non-null  object\n",
      " 7   Measure         111438 non-null  object\n",
      " 8   Value           111438 non-null  int64 \n",
      " 9   Cumulative      111438 non-null  int64 \n",
      "dtypes: int64(3), object(7)\n",
      "memory usage: 8.5+ MB\n"
     ]
    }
   ],
   "source": [
    "data.info()"
   ]
  },
  {
   "cell_type": "code",
   "execution_count": 9,
   "id": "22dd299c",
   "metadata": {},
   "outputs": [
    {
     "data": {
      "text/html": [
       "<div>\n",
       "<style scoped>\n",
       "    .dataframe tbody tr th:only-of-type {\n",
       "        vertical-align: middle;\n",
       "    }\n",
       "\n",
       "    .dataframe tbody tr th {\n",
       "        vertical-align: top;\n",
       "    }\n",
       "\n",
       "    .dataframe thead th {\n",
       "        text-align: right;\n",
       "    }\n",
       "</style>\n",
       "<table border=\"1\" class=\"dataframe\">\n",
       "  <thead>\n",
       "    <tr style=\"text-align: right;\">\n",
       "      <th></th>\n",
       "      <th>Year</th>\n",
       "      <th>Value</th>\n",
       "      <th>Cumulative</th>\n",
       "    </tr>\n",
       "  </thead>\n",
       "  <tbody>\n",
       "    <tr>\n",
       "      <th>count</th>\n",
       "      <td>111438.000000</td>\n",
       "      <td>1.114380e+05</td>\n",
       "      <td>1.114380e+05</td>\n",
       "    </tr>\n",
       "    <tr>\n",
       "      <th>mean</th>\n",
       "      <td>2017.982430</td>\n",
       "      <td>2.905750e+07</td>\n",
       "      <td>5.174254e+09</td>\n",
       "    </tr>\n",
       "    <tr>\n",
       "      <th>std</th>\n",
       "      <td>1.992352</td>\n",
       "      <td>5.267248e+07</td>\n",
       "      <td>9.765606e+09</td>\n",
       "    </tr>\n",
       "    <tr>\n",
       "      <th>min</th>\n",
       "      <td>2015.000000</td>\n",
       "      <td>0.000000e+00</td>\n",
       "      <td>0.000000e+00</td>\n",
       "    </tr>\n",
       "    <tr>\n",
       "      <th>25%</th>\n",
       "      <td>2016.000000</td>\n",
       "      <td>1.000000e+06</td>\n",
       "      <td>1.140000e+08</td>\n",
       "    </tr>\n",
       "    <tr>\n",
       "      <th>50%</th>\n",
       "      <td>2018.000000</td>\n",
       "      <td>8.000000e+06</td>\n",
       "      <td>1.420000e+09</td>\n",
       "    </tr>\n",
       "    <tr>\n",
       "      <th>75%</th>\n",
       "      <td>2020.000000</td>\n",
       "      <td>2.800000e+07</td>\n",
       "      <td>4.797000e+09</td>\n",
       "    </tr>\n",
       "    <tr>\n",
       "      <th>max</th>\n",
       "      <td>2021.000000</td>\n",
       "      <td>5.490000e+08</td>\n",
       "      <td>6.718000e+10</td>\n",
       "    </tr>\n",
       "  </tbody>\n",
       "</table>\n",
       "</div>"
      ],
      "text/plain": [
       "                Year         Value    Cumulative\n",
       "count  111438.000000  1.114380e+05  1.114380e+05\n",
       "mean     2017.982430  2.905750e+07  5.174254e+09\n",
       "std         1.992352  5.267248e+07  9.765606e+09\n",
       "min      2015.000000  0.000000e+00  0.000000e+00\n",
       "25%      2016.000000  1.000000e+06  1.140000e+08\n",
       "50%      2018.000000  8.000000e+06  1.420000e+09\n",
       "75%      2020.000000  2.800000e+07  4.797000e+09\n",
       "max      2021.000000  5.490000e+08  6.718000e+10"
      ]
     },
     "execution_count": 9,
     "metadata": {},
     "output_type": "execute_result"
    }
   ],
   "source": [
    "data.describe()"
   ]
  },
  {
   "cell_type": "code",
   "execution_count": 10,
   "id": "f0a5a835",
   "metadata": {},
   "outputs": [
    {
     "data": {
      "text/plain": [
       "Direction         0\n",
       "Year              0\n",
       "Date              0\n",
       "Weekday           0\n",
       "Country           0\n",
       "Commodity         0\n",
       "Transport_Mode    0\n",
       "Measure           0\n",
       "Value             0\n",
       "Cumulative        0\n",
       "dtype: int64"
      ]
     },
     "execution_count": 10,
     "metadata": {},
     "output_type": "execute_result"
    }
   ],
   "source": [
    "data.isnull().sum()"
   ]
  },
  {
   "cell_type": "code",
   "execution_count": 11,
   "id": "38ea2b42",
   "metadata": {},
   "outputs": [
    {
     "data": {
      "text/plain": [
       "Exports      80973\n",
       "Imports      27940\n",
       "Reimports     2525\n",
       "Name: Direction, dtype: int64"
      ]
     },
     "execution_count": 11,
     "metadata": {},
     "output_type": "execute_result"
    }
   ],
   "source": [
    "data.Direction.value_counts()"
   ]
  },
  {
   "cell_type": "code",
   "execution_count": 12,
   "id": "b048290f",
   "metadata": {},
   "outputs": [
    {
     "data": {
      "text/plain": [
       "2020    16031\n",
       "2016    16028\n",
       "2018    16019\n",
       "2019    16017\n",
       "2015    16005\n",
       "2017    15995\n",
       "2021    15343\n",
       "Name: Year, dtype: int64"
      ]
     },
     "execution_count": 12,
     "metadata": {},
     "output_type": "execute_result"
    }
   ],
   "source": [
    "data.Year.value_counts()"
   ]
  },
  {
   "cell_type": "code",
   "execution_count": 13,
   "id": "035293fb",
   "metadata": {},
   "outputs": [
    {
     "data": {
      "text/plain": [
       "All                            50801\n",
       "China                          27736\n",
       "East Asia (excluding China)     7617\n",
       "United States                   7499\n",
       "Australia                       5082\n",
       "United Kingdom                  5080\n",
       "Japan                           2541\n",
       "European Union (27)             2541\n",
       "Total (excluding China)         2541\n",
       "Name: Country, dtype: int64"
      ]
     },
     "execution_count": 13,
     "metadata": {},
     "output_type": "execute_result"
    }
   ],
   "source": [
    "data.Country.value_counts()"
   ]
  },
  {
   "cell_type": "code",
   "execution_count": 14,
   "id": "adcecd26",
   "metadata": {},
   "outputs": [
    {
     "data": {
      "text/plain": [
       "All                                45720\n",
       "Milk powder, butter, and cheese    15132\n",
       "Meat and edible offal              15100\n",
       "Logs, wood, and wood articles      10108\n",
       "Fish, crustaceans, and molluscs     7600\n",
       "Non-food manufactured goods         5082\n",
       "Electrical machinery and equip      5079\n",
       "Mechanical machinery and equip      5076\n",
       "Fruit                               2541\n",
       "Name: Commodity, dtype: int64"
      ]
     },
     "execution_count": 14,
     "metadata": {},
     "output_type": "execute_result"
    }
   ],
   "source": [
    "data.Commodity.value_counts()"
   ]
  },
  {
   "cell_type": "code",
   "execution_count": 15,
   "id": "262f33df",
   "metadata": {},
   "outputs": [
    {
     "data": {
      "text/plain": [
       "$         88727\n",
       "Tonnes    22711\n",
       "Name: Measure, dtype: int64"
      ]
     },
     "execution_count": 15,
     "metadata": {},
     "output_type": "execute_result"
    }
   ],
   "source": [
    "data.Measure.value_counts()"
   ]
  },
  {
   "cell_type": "code",
   "execution_count": 16,
   "id": "0df9d43f",
   "metadata": {},
   "outputs": [
    {
     "data": {
      "text/html": [
       "<div>\n",
       "<style scoped>\n",
       "    .dataframe tbody tr th:only-of-type {\n",
       "        vertical-align: middle;\n",
       "    }\n",
       "\n",
       "    .dataframe tbody tr th {\n",
       "        vertical-align: top;\n",
       "    }\n",
       "\n",
       "    .dataframe thead th {\n",
       "        text-align: right;\n",
       "    }\n",
       "</style>\n",
       "<table border=\"1\" class=\"dataframe\">\n",
       "  <thead>\n",
       "    <tr style=\"text-align: right;\">\n",
       "      <th></th>\n",
       "      <th>Value</th>\n",
       "    </tr>\n",
       "    <tr>\n",
       "      <th>Country</th>\n",
       "      <th></th>\n",
       "    </tr>\n",
       "  </thead>\n",
       "  <tbody>\n",
       "    <tr>\n",
       "      <th>United Kingdom</th>\n",
       "      <td>21591000000</td>\n",
       "    </tr>\n",
       "    <tr>\n",
       "      <th>Japan</th>\n",
       "      <td>23155000000</td>\n",
       "    </tr>\n",
       "    <tr>\n",
       "      <th>European Union (27)</th>\n",
       "      <td>26644000000</td>\n",
       "    </tr>\n",
       "    <tr>\n",
       "      <th>United States</th>\n",
       "      <td>52321338000</td>\n",
       "    </tr>\n",
       "    <tr>\n",
       "      <th>Australia</th>\n",
       "      <td>107686000000</td>\n",
       "    </tr>\n",
       "    <tr>\n",
       "      <th>East Asia (excluding China)</th>\n",
       "      <td>116562137000</td>\n",
       "    </tr>\n",
       "    <tr>\n",
       "      <th>China</th>\n",
       "      <td>282769573000</td>\n",
       "    </tr>\n",
       "    <tr>\n",
       "      <th>Total (excluding China)</th>\n",
       "      <td>291991000000</td>\n",
       "    </tr>\n",
       "  </tbody>\n",
       "</table>\n",
       "</div>"
      ],
      "text/plain": [
       "                                    Value\n",
       "Country                                  \n",
       "United Kingdom                21591000000\n",
       "Japan                         23155000000\n",
       "European Union (27)           26644000000\n",
       "United States                 52321338000\n",
       "Australia                    107686000000\n",
       "East Asia (excluding China)  116562137000\n",
       "China                        282769573000\n",
       "Total (excluding China)      291991000000"
      ]
     },
     "execution_count": 16,
     "metadata": {},
     "output_type": "execute_result"
    }
   ],
   "source": [
    "exports_by_country = data[data.Country!=\"All\"].groupby('Country').sum()\n",
    "exports_by_country.drop(['Year', 'Cumulative'], axis = 1, inplace = True)\n",
    "exports_by_country.sort_values(by=['Value']).head(10)"
   ]
  },
  {
   "cell_type": "code",
   "execution_count": 17,
   "id": "6f9c16d7",
   "metadata": {},
   "outputs": [
    {
     "data": {
      "text/plain": [
       "<AxesSubplot:ylabel='Country'>"
      ]
     },
     "execution_count": 17,
     "metadata": {},
     "output_type": "execute_result"
    },
    {
     "data": {
      "image/png": "[encoded data removed]",
      "text/plain": [
       "<Figure size 432x288 with 1 Axes>"
      ]
     },
     "metadata": {},
     "output_type": "display_data"
    }
   ],
   "source": [
    "data[(data['Country']!='All') & (data['Direction']=='Exports') & (data['Measure']=='$')].Country.value_counts().sort_values().plot(kind = 'pie', autopct='%1.1f%%')"
   ]
  },
  {
   "cell_type": "code",
   "execution_count": 18,
   "id": "4d26f678",
   "metadata": {},
   "outputs": [],
   "source": [
    "china_exports_usd = data[(data['Country']=='China') & (data['Direction']=='Exports') & (data['Measure']=='$')]"
   ]
  },
  {
   "cell_type": "code",
   "execution_count": 19,
   "id": "3babf17c",
   "metadata": {},
   "outputs": [
    {
     "data": {
      "image/png": "[encoded data removed]",
      "text/plain": [
       "<Figure size 720x504 with 1 Axes>"
      ]
     },
     "metadata": {
      "needs_background": "light"
     },
     "output_type": "display_data"
    }
   ],
   "source": [
    "plt.figure(figsize = (10,7))\n",
    "sns.barplot(x = 'Year',\n",
    "            y = 'Value',\n",
    "            hue = 'Country',\n",
    "            data = china_exports_usd)\n",
    "plt.xticks(rotation = 90)\n",
    "plt.title('Exports China')\n",
    "plt.show()"
   ]
  },
  {
   "cell_type": "code",
   "execution_count": 20,
   "id": "afe218a2",
   "metadata": {},
   "outputs": [],
   "source": [
    "usa_exports_usd = data[(data['Country']=='United States')  & (data['Direction']=='Exports') & (data['Measure']=='$')]"
   ]
  },
  {
   "cell_type": "code",
   "execution_count": 21,
   "id": "1bc19622",
   "metadata": {},
   "outputs": [
    {
     "data": {
      "image/png": "[encoded data removed]",
      "text/plain": [
       "<Figure size 720x504 with 1 Axes>"
      ]
     },
     "metadata": {
      "needs_background": "light"
     },
     "output_type": "display_data"
    }
   ],
   "source": [
    "plt.figure(figsize = (10,7))\n",
    "sns.barplot(x = 'Year',\n",
    "            y = 'Value',\n",
    "            hue = 'Country',\n",
    "            data = usa_exports_usd)\n",
    "plt.xticks(rotation = 90)\n",
    "plt.title('Exports USA')\n",
    "plt.show()"
   ]
  },
  {
   "cell_type": "code",
   "execution_count": 22,
   "id": "f377c68c",
   "metadata": {},
   "outputs": [],
   "source": [
    "comparison_china_vs_usa_exports_usd = data[(data['Country']=='China') | (data['Country']=='United States')  & (data['Direction']=='Exports') & (data['Measure']=='$')]"
   ]
  },
  {
   "cell_type": "code",
   "execution_count": 23,
   "id": "689ba421",
   "metadata": {},
   "outputs": [
    {
     "data": {
      "image/png": "[encoded data removed]",
      "text/plain": [
       "<Figure size 720x504 with 1 Axes>"
      ]
     },
     "metadata": {
      "needs_background": "light"
     },
     "output_type": "display_data"
    }
   ],
   "source": [
    "plt.figure(figsize = (10,7))\n",
    "sns.barplot(x = 'Year',\n",
    "            y = 'Value',\n",
    "            hue = 'Country',\n",
    "            data = comparison_china_vs_usa_exports_usd)\n",
    "plt.xticks(rotation = 90)\n",
    "plt.title('Exports China vs USA')\n",
    "plt.show()"
   ]
  },
  {
   "cell_type": "code",
   "execution_count": 24,
   "id": "a0299e9a",
   "metadata": {},
   "outputs": [
    {
     "data": {
      "text/plain": [
       "All                                45720\n",
       "Milk powder, butter, and cheese     7566\n",
       "Meat and edible offal               7550\n",
       "Non-food manufactured goods         5082\n",
       "Electrical machinery and equip      5079\n",
       "Mechanical machinery and equip      5076\n",
       "Fish, crustaceans, and molluscs     5059\n",
       "Logs, wood, and wood articles       5054\n",
       "Fruit                               2541\n",
       "Name: Commodity, dtype: int64"
      ]
     },
     "execution_count": 24,
     "metadata": {},
     "output_type": "execute_result"
    }
   ],
   "source": [
    "data[data['Measure']=='$'].Commodity.value_counts()"
   ]
  },
  {
   "cell_type": "code",
   "execution_count": 25,
   "id": "c19d7ab9",
   "metadata": {},
   "outputs": [
    {
     "data": {
      "text/plain": [
       "<AxesSubplot:ylabel='Commodity'>"
      ]
     },
     "execution_count": 25,
     "metadata": {},
     "output_type": "execute_result"
    },
    {
     "data": {
      "image/png": "[encoded data removed]",
      "text/plain": [
       "<Figure size 432x288 with 1 Axes>"
      ]
     },
     "metadata": {},
     "output_type": "display_data"
    }
   ],
   "source": [
    "data[(data['Measure']=='$') & (data['Commodity']!='All') & (data['Direction']=='Exports')].Commodity.value_counts().sort_values().plot(kind = 'pie', autopct='%1.1f%%')"
   ]
  },
  {
   "cell_type": "code",
   "execution_count": 26,
   "id": "1a0849e0",
   "metadata": {},
   "outputs": [],
   "source": [
    "commodity_china_exports_usd = data[(data['Country']=='China')  & (data['Direction']=='Exports') & (data['Commodity']!='All')]"
   ]
  },
  {
   "cell_type": "code",
   "execution_count": 27,
   "id": "593f0eba",
   "metadata": {},
   "outputs": [
    {
     "data": {
      "image/png": "[encoded data removed]",
      "text/plain": [
       "<Figure size 720x504 with 1 Axes>"
      ]
     },
     "metadata": {
      "needs_background": "light"
     },
     "output_type": "display_data"
    }
   ],
   "source": [
    "plt.figure(figsize = (10,7))\n",
    "sns.barplot(x = 'Year',\n",
    "            y = 'Value',\n",
    "            hue = 'Commodity',\n",
    "            data = commodity_china_exports_usd)\n",
    "plt.xticks(rotation = 90)\n",
    "plt.title('Exports commodity by China')\n",
    "plt.show()"
   ]
  },
  {
   "cell_type": "code",
   "execution_count": 28,
   "id": "be59975f",
   "metadata": {},
   "outputs": [],
   "source": [
    "commodity_by_usa_exports_usd = data[(data['Country']=='United States')  & (data['Direction']=='Exports') & (data['Commodity']!='All')]"
   ]
  },
  {
   "cell_type": "code",
   "execution_count": 29,
   "id": "5ade2b1d",
   "metadata": {},
   "outputs": [
    {
     "data": {
      "image/png": "[encoded data removed]",
      "text/plain": [
       "<Figure size 720x504 with 1 Axes>"
      ]
     },
     "metadata": {
      "needs_background": "light"
     },
     "output_type": "display_data"
    }
   ],
   "source": [
    "plt.figure(figsize = (10,7))\n",
    "sns.barplot(x = 'Year',\n",
    "            y = 'Value',\n",
    "            hue = 'Commodity',\n",
    "            data = commodity_by_usa_exports_usd)\n",
    "plt.xticks(rotation = 90)\n",
    "plt.title('Exports commodity by USA')\n",
    "plt.show()"
   ]
  },
  {
   "cell_type": "code",
   "execution_count": null,
   "id": "49b755f5",
   "metadata": {},
   "outputs": [],
   "source": []
  }
 ],
 "metadata": {
  "kernelspec": {
   "display_name": "Python 3 (ipykernel)",
   "language": "python",
   "name": "python3"
  },
  "language_info": {
   "codemirror_mode": {
    "name": "ipython",
    "version": 3
   },
   "file_extension": ".py",
   "mimetype": "text/x-python",
   "name": "python",
   "nbconvert_exporter": "python",
   "pygments_lexer": "ipython3",
   "version": "3.9.7"
  }
 },
 "nbformat": 4,
 "nbformat_minor": 5
}
